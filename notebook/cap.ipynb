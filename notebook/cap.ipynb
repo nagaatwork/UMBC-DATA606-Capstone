{
 "cells": [
  {
   "cell_type": "code",
   "execution_count": 1,
   "id": "1d03c9d1-7194-4081-b5a9-315802268d2a",
   "metadata": {},
   "outputs": [],
   "source": [
    "import pandas as pd\n",
    "import numpy as np\n",
    "\n",
    "df = pd.read_csv(\"diabetic_data.csv\", dtype=str, low_memory=False)\n"
   ]
  },
  {
   "cell_type": "markdown",
   "id": "e15cd18d-ff72-48fd-9f99-add443892576",
   "metadata": {},
   "source": [
    "### Load Raw Dataset (diabetic_data.csv)\n",
    "\n",
    "- **Purpose:** Load the original diabetes hospitalization dataset into memory for cleaning and exploration.\n",
    "- **What this cell does:**\n",
    "  - Imports core libraries: pandas and numpy.\n",
    "  - Reads the CSV file using:\n",
    "    - dtype=str -- loads all columns as strings to prevent mixed-type issues.\n",
    "    - low_memory=False -- ensures pandas reads the file in a single pass for accurate type inference.\n",
    "- **Output:** A full raw DataFrame called **df** with ~101,766 rows and 50 columns.\n"
   ]
  },
  {
   "cell_type": "code",
   "execution_count": 4,
   "id": "6fdeadaa-8ad6-4a9f-b0fb-f137085c44d7",
   "metadata": {},
   "outputs": [
    {
     "name": "stdout",
     "output_type": "stream",
     "text": [
      "Raw shape: (101766, 50)\n"
     ]
    },
    {
     "data": {
      "text/plain": [
       "readmitted\n",
       "NO     54864\n",
       ">30    35545\n",
       "<30    11357\n",
       "Name: count, dtype: int64"
      ]
     },
     "execution_count": 4,
     "metadata": {},
     "output_type": "execute_result"
    }
   ],
   "source": [
    "df = df.replace(\"?\", pd.NA)\n",
    "print(\"Raw shape:\", df.shape)\n",
    "df[\"readmitted\"].value_counts(dropna=False)\n"
   ]
  },
  {
   "cell_type": "markdown",
   "id": "bc40d731-43c3-4d11-bb5c-0755d9cfb087",
   "metadata": {},
   "source": [
    "### Basic Cleaning: Replace Missing Values & Inspect Target\n",
    "\n",
    "- **Replaces** all \"?\" placeholders in the dataset with proper missing values (`pd.NA`), allowing for consistent handling in analysis.\n",
    "- **Prints** the raw shape of the dataset (rows × columns) for verification.\n",
    "- **Displays** value counts for the readmitted column to inspect class distribution:\n",
    "  - **NO**– not readmitted\n",
    "  - **>30** – readmitted after 30 days\n",
    "  - **<30** – readmitted within 30 days (positive class for ML)\n"
   ]
  },
  {
   "cell_type": "code",
   "execution_count": 5,
   "id": "0c3c45e0-16ed-42c2-b988-a6f29e9ae38a",
   "metadata": {},
   "outputs": [
    {
     "data": {
      "text/plain": [
       "np.float64(0.11159915885462728)"
      ]
     },
     "execution_count": 5,
     "metadata": {},
     "output_type": "execute_result"
    }
   ],
   "source": [
    "df[\"readmit_30d\"] = (df[\"readmitted\"] == \"<30\").astype(\"int8\")\n",
    "df[\"readmit_30d\"].mean() \n"
   ]
  },
  {
   "cell_type": "code",
   "execution_count": 6,
   "id": "d50589cf-129b-4e70-96d8-0b8ceead939f",
   "metadata": {},
   "outputs": [],
   "source": [
    "num_cols = [\n",
    "    \"time_in_hospital\",\"num_lab_procedures\",\"num_procedures\",\"num_medications\",\n",
    "    \"number_outpatient\",\"number_emergency\",\"number_inpatient\",\"number_diagnoses\"\n",
    "]\n",
    "for c in num_cols:\n",
    "    df[c] = pd.to_numeric(df[c], errors=\"coerce\")\n"
   ]
  },
  {
   "cell_type": "markdown",
   "id": "fbc3255d-5965-4432-9a80-9742f67902c2",
   "metadata": {},
   "source": [
    "### Convert Numeric Columns to Proper Data Types\n",
    "\n",
    "- **Purpose:** Ensure that key clinical and utilization features are stored as numeric types for analysis and modeling.\n",
    "- **What this cell does:**\n",
    "  - Defines a list of columns that are expected to be numeric (e.g., length of stay, procedure counts).\n",
    "  - Iterates through each column and converts it to a numeric data type using `pd.to_numeric()`.\n",
    "    - Invalid entries (e.g., non-numeric strings or missing values) are coerced to `NaN`.\n",
    "- **Why it's important:** This conversion enables correct statistical summaries, visualizations, and ML model input.\n"
   ]
  },
  {
   "cell_type": "code",
   "execution_count": 7,
   "id": "f3a45d72-521a-4f18-be91-dfad1368d9a5",
   "metadata": {},
   "outputs": [],
   "source": [
    "age_bins = df[\"age\"].str.extract(r\"\\[(\\d+)-(\\d+)\\)\").astype(float)\n",
    "df[\"age_mid\"] = (age_bins[0] + age_bins[1]) / 2\n"
   ]
  },
  {
   "cell_type": "markdown",
   "id": "3f3e62c8-f20e-4d98-85f9-a6238473fcc4",
   "metadata": {},
   "source": [
    "### Convert Age Ranges to Numeric Midpoints\n",
    "\n",
    "- **Purpose:** Transform the `age` column (which contains string ranges like `[60-70)`) into a numeric feature for modeling.\n",
    "- **What this cell does:**\n",
    "  - Uses **regex** to extract the lower and upper bounds from the age range string.\n",
    "  - Converts those bounds to `float`.\n",
    "  - Computes the **midpoint** of each age bin and stores it in a new column: `age_mid`.\n",
    "    - Example: `[60-70)` --`(60 + 70) / 2 = 65.0`\n",
    "- **Why it's useful:** Machine learning models work better with numeric values than with string intervals.\n"
   ]
  },
  {
   "cell_type": "code",
   "execution_count": 8,
   "id": "661fe30f-5f62-4b43-9912-3cae53420f42",
   "metadata": {},
   "outputs": [
    {
     "data": {
      "text/plain": [
       "(101766, 19)"
      ]
     },
     "execution_count": 8,
     "metadata": {},
     "output_type": "execute_result"
    }
   ],
   "source": [
    "simple = df[[\n",
    "    \"encounter_id\",\"patient_nbr\",\"readmit_30d\",\n",
    "    \"age_mid\",\"gender\",\"race\",\n",
    "    \"time_in_hospital\",\"num_lab_procedures\",\"num_procedures\",\"num_medications\",\n",
    "    \"number_outpatient\",\"number_emergency\",\"number_inpatient\",\"number_diagnoses\",\n",
    "    \"A1Cresult\",\"max_glu_serum\",\n",
    "    \"admission_type_id\",\"admission_source_id\",\"discharge_disposition_id\"\n",
    "]].rename(columns={\n",
    "    \"encounter_id\":\"admission_id\",\n",
    "    \"patient_nbr\":\"patient_id\",\n",
    "    \"time_in_hospital\":\"los_days\"\n",
    "})\n",
    "simple.shape\n"
   ]
  },
  {
   "cell_type": "markdown",
   "id": "36bb829b-360f-4574-987c-fa33e239b2ad",
   "metadata": {},
   "source": [
    "###  Create Simplified Modeling Dataset (`simple`)\n",
    "\n",
    "- **Purpose:** Build a clean, compact DataFrame for modeling that includes essential predictors and the target label.\n",
    "- **What this cell does:**\n",
    "  - Selects a curated list of relevant columns from the raw DataFrame `df`.\n",
    "  - Renames key columns for clarity:\n",
    "    - `encounter_id`-- `admission_id`\n",
    "    - `patient_nbr`-- `patient_id`\n",
    "    - `time_in_hospital` -- `los_days`\n",
    "  - Stores the result in a new DataFrame called `simple`.\n",
    "- **Columns include:**\n",
    "  - Patient and admission IDs\n",
    "  - Target variable: `readmit_30d`\n",
    "  - Demographics: `age_mid`, `gender`, `race`\n",
    "  - Encounter info: length of stay, lab/procedure counts, utilization history\n",
    "  - Clinical markers: `A1Cresult`, `max_glu_serum`\n",
    "  - Admission context: type, source, discharge disposition\n",
    "- **Output:** Prints the shape of the simplified DataFrame to confirm rows and columns (should be 19 columns total).\n"
   ]
  },
  {
   "cell_type": "code",
   "execution_count": 9,
   "id": "9613c7fd-d0f7-41d6-8b7d-e0fc6e7272d5",
   "metadata": {},
   "outputs": [
    {
     "data": {
      "text/html": [
       "<div>\n",
       "<style scoped>\n",
       "    .dataframe tbody tr th:only-of-type {\n",
       "        vertical-align: middle;\n",
       "    }\n",
       "\n",
       "    .dataframe tbody tr th {\n",
       "        vertical-align: top;\n",
       "    }\n",
       "\n",
       "    .dataframe thead th {\n",
       "        text-align: right;\n",
       "    }\n",
       "</style>\n",
       "<table border=\"1\" class=\"dataframe\">\n",
       "  <thead>\n",
       "    <tr style=\"text-align: right;\">\n",
       "      <th></th>\n",
       "      <th>admission_id</th>\n",
       "      <th>patient_id</th>\n",
       "      <th>readmit_30d</th>\n",
       "      <th>age_mid</th>\n",
       "      <th>gender</th>\n",
       "      <th>race</th>\n",
       "      <th>los_days</th>\n",
       "      <th>num_lab_procedures</th>\n",
       "      <th>num_procedures</th>\n",
       "      <th>num_medications</th>\n",
       "      <th>number_outpatient</th>\n",
       "      <th>number_emergency</th>\n",
       "      <th>number_inpatient</th>\n",
       "      <th>number_diagnoses</th>\n",
       "      <th>A1Cresult</th>\n",
       "      <th>max_glu_serum</th>\n",
       "      <th>admission_type_id</th>\n",
       "      <th>admission_source_id</th>\n",
       "      <th>discharge_disposition_id</th>\n",
       "    </tr>\n",
       "  </thead>\n",
       "  <tbody>\n",
       "    <tr>\n",
       "      <th>0</th>\n",
       "      <td>2278392</td>\n",
       "      <td>8222157</td>\n",
       "      <td>0</td>\n",
       "      <td>5.0</td>\n",
       "      <td>Female</td>\n",
       "      <td>Caucasian</td>\n",
       "      <td>1</td>\n",
       "      <td>41</td>\n",
       "      <td>0</td>\n",
       "      <td>1</td>\n",
       "      <td>0</td>\n",
       "      <td>0</td>\n",
       "      <td>0</td>\n",
       "      <td>1</td>\n",
       "      <td>NaN</td>\n",
       "      <td>NaN</td>\n",
       "      <td>6</td>\n",
       "      <td>1</td>\n",
       "      <td>25</td>\n",
       "    </tr>\n",
       "    <tr>\n",
       "      <th>1</th>\n",
       "      <td>149190</td>\n",
       "      <td>55629189</td>\n",
       "      <td>0</td>\n",
       "      <td>15.0</td>\n",
       "      <td>Female</td>\n",
       "      <td>Caucasian</td>\n",
       "      <td>3</td>\n",
       "      <td>59</td>\n",
       "      <td>0</td>\n",
       "      <td>18</td>\n",
       "      <td>0</td>\n",
       "      <td>0</td>\n",
       "      <td>0</td>\n",
       "      <td>9</td>\n",
       "      <td>NaN</td>\n",
       "      <td>NaN</td>\n",
       "      <td>1</td>\n",
       "      <td>7</td>\n",
       "      <td>1</td>\n",
       "    </tr>\n",
       "    <tr>\n",
       "      <th>2</th>\n",
       "      <td>64410</td>\n",
       "      <td>86047875</td>\n",
       "      <td>0</td>\n",
       "      <td>25.0</td>\n",
       "      <td>Female</td>\n",
       "      <td>AfricanAmerican</td>\n",
       "      <td>2</td>\n",
       "      <td>11</td>\n",
       "      <td>5</td>\n",
       "      <td>13</td>\n",
       "      <td>2</td>\n",
       "      <td>0</td>\n",
       "      <td>1</td>\n",
       "      <td>6</td>\n",
       "      <td>NaN</td>\n",
       "      <td>NaN</td>\n",
       "      <td>1</td>\n",
       "      <td>7</td>\n",
       "      <td>1</td>\n",
       "    </tr>\n",
       "    <tr>\n",
       "      <th>3</th>\n",
       "      <td>500364</td>\n",
       "      <td>82442376</td>\n",
       "      <td>0</td>\n",
       "      <td>35.0</td>\n",
       "      <td>Male</td>\n",
       "      <td>Caucasian</td>\n",
       "      <td>2</td>\n",
       "      <td>44</td>\n",
       "      <td>1</td>\n",
       "      <td>16</td>\n",
       "      <td>0</td>\n",
       "      <td>0</td>\n",
       "      <td>0</td>\n",
       "      <td>7</td>\n",
       "      <td>NaN</td>\n",
       "      <td>NaN</td>\n",
       "      <td>1</td>\n",
       "      <td>7</td>\n",
       "      <td>1</td>\n",
       "    </tr>\n",
       "    <tr>\n",
       "      <th>4</th>\n",
       "      <td>16680</td>\n",
       "      <td>42519267</td>\n",
       "      <td>0</td>\n",
       "      <td>45.0</td>\n",
       "      <td>Male</td>\n",
       "      <td>Caucasian</td>\n",
       "      <td>1</td>\n",
       "      <td>51</td>\n",
       "      <td>0</td>\n",
       "      <td>8</td>\n",
       "      <td>0</td>\n",
       "      <td>0</td>\n",
       "      <td>0</td>\n",
       "      <td>5</td>\n",
       "      <td>NaN</td>\n",
       "      <td>NaN</td>\n",
       "      <td>1</td>\n",
       "      <td>7</td>\n",
       "      <td>1</td>\n",
       "    </tr>\n",
       "  </tbody>\n",
       "</table>\n",
       "</div>"
      ],
      "text/plain": [
       "  admission_id patient_id  readmit_30d  age_mid  gender             race  \\\n",
       "0      2278392    8222157            0      5.0  Female        Caucasian   \n",
       "1       149190   55629189            0     15.0  Female        Caucasian   \n",
       "2        64410   86047875            0     25.0  Female  AfricanAmerican   \n",
       "3       500364   82442376            0     35.0    Male        Caucasian   \n",
       "4        16680   42519267            0     45.0    Male        Caucasian   \n",
       "\n",
       "   los_days  num_lab_procedures  num_procedures  num_medications  \\\n",
       "0         1                  41               0                1   \n",
       "1         3                  59               0               18   \n",
       "2         2                  11               5               13   \n",
       "3         2                  44               1               16   \n",
       "4         1                  51               0                8   \n",
       "\n",
       "   number_outpatient  number_emergency  number_inpatient  number_diagnoses  \\\n",
       "0                  0                 0                 0                 1   \n",
       "1                  0                 0                 0                 9   \n",
       "2                  2                 0                 1                 6   \n",
       "3                  0                 0                 0                 7   \n",
       "4                  0                 0                 0                 5   \n",
       "\n",
       "  A1Cresult max_glu_serum admission_type_id admission_source_id  \\\n",
       "0       NaN           NaN                 6                   1   \n",
       "1       NaN           NaN                 1                   7   \n",
       "2       NaN           NaN                 1                   7   \n",
       "3       NaN           NaN                 1                   7   \n",
       "4       NaN           NaN                 1                   7   \n",
       "\n",
       "  discharge_disposition_id  \n",
       "0                       25  \n",
       "1                        1  \n",
       "2                        1  \n",
       "3                        1  \n",
       "4                        1  "
      ]
     },
     "metadata": {},
     "output_type": "display_data"
    },
    {
     "name": "stdout",
     "output_type": "stream",
     "text": [
      "Saved: readmit_simple.csv  | rows=101,766  cols=19\n"
     ]
    }
   ],
   "source": [
    "\n",
    "out_path = \"readmit_simple.csv\"\n",
    "display(simple.head())\n",
    "\n",
    "simple.to_csv(out_path, index=False)\n",
    "print(f\"Saved: {out_path}  | rows={len(simple):,}  cols={simple.shape[1]}\")\n"
   ]
  },
  {
   "cell_type": "markdown",
   "id": "63492ea4-2668-4fdc-bf80-38689c9dc869",
   "metadata": {},
   "source": [
    "###  Preview and Save the Cleaned Dataset (`readmit_simple.csv`)\n",
    "\n",
    "- **Purpose:** Save the cleaned and simplified dataset for future analysis or modeling steps.\n",
    "- **What this cell does:**\n",
    "  - Displays the first few rows of the `simple` DataFrame using `display(simple.head())` for verification.\n",
    "  - Saves the `simple` DataFrame to a CSV file named `readmit_simple.csv` in the current working directory.\n",
    "  - Prints a confirmation message showing:\n",
    "    - File name\n",
    "    - Number of rows (formatted with commas)\n",
    "    - Number of columns\n",
    "- **Why this matters:** Ensures that you have a ready-to-use version of the dataset stored on disk for reproducibility and backup.\n"
   ]
  },
  {
   "cell_type": "markdown",
   "id": "2e6d51b3-eeb7-4c97-a2c5-d1ad8ec9d09e",
   "metadata": {},
   "source": [
    "## Dataset Overview – Predicting Hospital Readmissions\n",
    "\n",
    "### Data Source\n",
    "- The dataset is sourced from the **UCI Machine Learning Repository**:  \n",
    "  [Diabetes 130-US hospitals for years 1999–2008 Data Set](https://archive.ics.uci.edu/ml/datasets/diabetes+130-us+hospitals+for+years+1999-2008)\n",
    "- It contains de-identified patient records related to diabetes admissions.\n",
    "\n",
    "### File Information\n",
    "- **File name:** `diabetic_data.csv`\n",
    "- **Data size:** ~18 MB\n",
    "- **Shape:** 101,766 rows × 50 columns\n",
    "- **Time Period:** 1999–2008\n",
    "- **Each row represents:** a single hospital encounter for a diabetic patient.\n",
    "\n",
    "---\n",
    "\n",
    "### Data Dictionary (Simplified Modeling Subset)\n",
    "\n",
    "| Column Name               | Data Type | Description                                            | Sample / Categories                     |\n",
    "|---------------------------|-----------|--------------------------------------------------------|------------------------------------------|\n",
    "| `admission_id`            | string    | Unique hospital encounter ID                           | e.g., 100006                             |\n",
    "| `patient_id`              | string    | De-identified patient number                           | e.g., 112186                             |\n",
    "| `readmit_30d`             | int       | Target: 1 if readmitted within 30 days, else 0         | {0, 1}                                   |\n",
    "| `age_mid`                 | float     | Midpoint of patient age bracket (from `age`)           | e.g., 65.0 for `[60-70)`                 |\n",
    "| `gender`                  | category  | Patient gender                                         | `Male`, `Female`, `Unknown`              |\n",
    "| `race`                    | category  | Patient race                                           | `Caucasian`, `AfricanAmerican`, etc.     |\n",
    "| `los_days`                | int       | Length of hospital stay (days)                         | e.g., 3, 5                                |\n",
    "| `num_lab_procedures`      | int       | Number of lab tests during encounter                   | e.g., 40                                 |\n",
    "| `num_procedures`          | int       | Number of procedures performed                         | e.g., 1, 0                                |\n",
    "| `num_medications`         | int       | Number of medications prescribed                       | e.g., 13                                 |\n",
    "| `number_outpatient`       | int       | Outpatient visits in prior year                        | e.g., 0, 2                                |\n",
    "| `number_emergency`        | int       | Emergency visits in prior year                         | e.g., 0, 1                                |\n",
    "| `number_inpatient`        | int       | Inpatient visits in prior year                         | e.g., 0, 3                                |\n",
    "| `number_diagnoses`        | int       | Number of diagnoses recorded                           | e.g., 9                                  |\n",
    "| `A1Cresult`               | category  | A1C test result for blood sugar control                | `>8`, `Norm`, `None`, `>7`               |\n",
    "| `max_glu_serum`           | category  | Maximum glucose level measured                         | `>200`, `Norm`, `None`, `>300`           |\n",
    "| `admission_type_id`       | category  | Type of hospital admission                             | `1`, `2`, ..., `8` (mapped via lookup)   |\n",
    "| `admission_source_id`     | category  | Source of patient admission                            | `1`, `2`, ..., `25` (mapped via lookup)  |\n",
    "| `discharge_disposition_id`| category  | Discharge destination or status                        | `1`, `2`, ..., `30` (mapped via lookup)  |\n",
    "\n",
    "---\n",
    "\n",
    "### Target Variable\n",
    "- **`readmit_30d`** — A binary indicator of whether the patient was readmitted within 30 days of discharge.\n",
    "\n",
    "---\n",
    "\n",
    "### Feature Variables (Predictors)\n",
    "The following columns are selected as features for machine learning:\n",
    "- **Demographics:** `age_mid`, `gender`, `race`\n",
    "- **Utilization:** `los_days`, `num_lab_procedures`, `num_procedures`, `num_medications`\n",
    "- **Visit History:** `number_outpatient`, `number_emergency`, `number_inpatient`\n",
    "- **Clinical Markers:** `number_diagnoses`, `A1Cresult`, `max_glu_serum`\n",
    "- **Admission Details:** `admission_type_id`, `admission_source_id`, `discharge_disposition_id`\n",
    "\n",
    "---\n",
    "\n",
    "### Notes\n",
    "- Missing values such as `\"?\"` were replaced with `NaN`.\n",
    "- Age ranges like `[60-70)` were converted to numeric midpoints.\n",
    "- Categorical ID columns can be mapped to readable labels using the `IDS_mapping.csv` file.\n"
   ]
  },
  {
   "cell_type": "code",
   "execution_count": null,
   "id": "24589834-10a9-4028-b2cc-5e1e53f82335",
   "metadata": {},
   "outputs": [],
   "source": []
  }
 ],
 "metadata": {
  "kernelspec": {
   "display_name": "Python 3 (ipykernel)",
   "language": "python",
   "name": "python3"
  },
  "language_info": {
   "codemirror_mode": {
    "name": "ipython",
    "version": 3
   },
   "file_extension": ".py",
   "mimetype": "text/x-python",
   "name": "python",
   "nbconvert_exporter": "python",
   "pygments_lexer": "ipython3",
   "version": "3.9.21"
  }
 },
 "nbformat": 4,
 "nbformat_minor": 5
}
